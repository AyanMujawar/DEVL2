{
 "cells": [
  {
   "cell_type": "code",
   "execution_count": 2,
   "metadata": {
    "id": "qoRTJIVprpJJ"
   },
   "outputs": [],
   "source": [
    "import numpy as np"
   ]
  },
  {
   "cell_type": "code",
   "execution_count": 3,
   "metadata": {
    "colab": {
     "base_uri": "https://localhost:8080/"
    },
    "executionInfo": {
     "elapsed": 394,
     "status": "ok",
     "timestamp": 1731839599339,
     "user": {
      "displayName": "CHETAN CHAUHAN",
      "userId": "06023305381592033362"
     },
     "user_tz": -330
    },
    "id": "cHfAuOn9rtQr",
    "outputId": "7eb3b498-aa9a-416f-cd4e-1925a5015a1c"
   },
   "outputs": [
    {
     "name": "stdout",
     "output_type": "stream",
     "text": [
      "Matrix A:\n",
      " [[1 2 3]\n",
      " [4 5 6]\n",
      " [7 8 9]]\n",
      "Matrix B:\n",
      " [[9 8 7]\n",
      " [6 5 4]\n",
      " [3 2 1]]\n"
     ]
    }
   ],
   "source": [
    "matrix_a = np.array([[1, 2, 3], [4, 5, 6], [7, 8, 9]])\n",
    "matrix_b = np.array([[9, 8, 7], [6, 5, 4], [3, 2, 1]])\n",
    "\n",
    "print(\"Matrix A:\\n\", matrix_a)\n",
    "print(\"Matrix B:\\n\", matrix_b)"
   ]
  },
  {
   "cell_type": "code",
   "execution_count": 5,
   "metadata": {
    "colab": {
     "base_uri": "https://localhost:8080/"
    },
    "executionInfo": {
     "elapsed": 465,
     "status": "ok",
     "timestamp": 1731839614928,
     "user": {
      "displayName": "CHETAN CHAUHAN",
      "userId": "06023305381592033362"
     },
     "user_tz": -330
    },
    "id": "wClJ-InLr1JS",
    "outputId": "cd8b93d7-746a-4828-f078-b38f9003dcd8"
   },
   "outputs": [
    {
     "name": "stdout",
     "output_type": "stream",
     "text": [
      "Matrix Addition:\n",
      " [[10 10 10]\n",
      " [10 10 10]\n",
      " [10 10 10]]\n"
     ]
    }
   ],
   "source": [
    "# Matrix Addition\n",
    "matrix_add = np.add(matrix_a, matrix_b)\n",
    "print(\"Matrix Addition:\\n\", matrix_add)"
   ]
  },
  {
   "cell_type": "code",
   "execution_count": null,
   "metadata": {
    "colab": {
     "base_uri": "https://localhost:8080/"
    },
    "executionInfo": {
     "elapsed": 518,
     "status": "ok",
     "timestamp": 1731839632502,
     "user": {
      "displayName": "CHETAN CHAUHAN",
      "userId": "06023305381592033362"
     },
     "user_tz": -330
    },
    "id": "NbewFIf7r2BG",
    "outputId": "fd05f265-8e87-4a5d-e449-eb011d40fa8c"
   },
   "outputs": [
    {
     "name": "stdout",
     "output_type": "stream",
     "text": [
      "Matrix Subtraction:\n",
      " [[-8 -6 -4]\n",
      " [-2  0  2]\n",
      " [ 4  6  8]]\n"
     ]
    }
   ],
   "source": [
    "# Matrix subtraction\n",
    "matrix_sub = np.subtract(matrix_a, matrix_b)\n",
    "print(\"Matrix Subtraction:\\n\", matrix_sub)"
   ]
  },
  {
   "cell_type": "code",
   "execution_count": null,
   "metadata": {
    "colab": {
     "base_uri": "https://localhost:8080/"
    },
    "executionInfo": {
     "elapsed": 417,
     "status": "ok",
     "timestamp": 1731839655078,
     "user": {
      "displayName": "CHETAN CHAUHAN",
      "userId": "06023305381592033362"
     },
     "user_tz": -330
    },
    "id": "uR9c86BQr6Mh",
    "outputId": "53cae0d1-1596-456b-ca55-6d67161de7a4"
   },
   "outputs": [
    {
     "name": "stdout",
     "output_type": "stream",
     "text": [
      "Element-Wise Multiplication:\n",
      " [[ 9 16 21]\n",
      " [24 25 24]\n",
      " [21 16  9]]\n"
     ]
    }
   ],
   "source": [
    "# Element-wise multiplication\n",
    "element_wise_mul = np.multiply(matrix_a, matrix_b)\n",
    "print(\"Element-Wise Multiplication:\\n\", element_wise_mul)"
   ]
  },
  {
   "cell_type": "code",
   "execution_count": 7,
   "metadata": {
    "colab": {
     "base_uri": "https://localhost:8080/"
    },
    "executionInfo": {
     "elapsed": 516,
     "status": "ok",
     "timestamp": 1731839704126,
     "user": {
      "displayName": "CHETAN CHAUHAN",
      "userId": "06023305381592033362"
     },
     "user_tz": -330
    },
    "id": "6Uv10DgCsGnU",
    "outputId": "15c6be72-f765-4a26-967f-3f8481e90c2e"
   },
   "outputs": [
    {
     "name": "stdout",
     "output_type": "stream",
     "text": [
      "Matrix Multiplication (Dot Product):\n",
      " [[ 30  24  18]\n",
      " [ 84  69  54]\n",
      " [138 114  90]]\n"
     ]
    }
   ],
   "source": [
    "# Matrix multiplication (dot product)\n",
    "matrix_mul = np.dot(matrix_a, matrix_b)\n",
    "print(\"Matrix Multiplication (Dot Product):\\n\", matrix_mul)"
   ]
  }
 ],
 "metadata": {
  "colab": {
   "provenance": []
  },
  "kernelspec": {
   "display_name": "Python 3 (ipykernel)",
   "language": "python",
   "name": "python3"
  },
  "language_info": {
   "codemirror_mode": {
    "name": "ipython",
    "version": 3
   },
   "file_extension": ".py",
   "mimetype": "text/x-python",
   "name": "python",
   "nbconvert_exporter": "python",
   "pygments_lexer": "ipython3",
   "version": "3.12.5"
  }
 },
 "nbformat": 4,
 "nbformat_minor": 4
}

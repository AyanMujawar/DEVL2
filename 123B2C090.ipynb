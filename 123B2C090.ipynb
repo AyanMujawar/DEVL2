{
 "cells": [
  {
   "cell_type": "code",
   "execution_count": 1,
   "metadata": {},
   "outputs": [],
   "source": [
    "import pandas as pd\n",
    "import numpy as np\n",
    "from scipy import stats"
   ]
  },
  {
   "cell_type": "code",
   "execution_count": null,
   "metadata": {},
   "outputs": [],
   "source": [
    "#read data\n",
    "movies = pd.read_csv(\"C:/Users/Lenovo/Downloads/friends.csv\")\n",
    "type(movies)"
   ]
  },
  {
   "cell_type": "code",
   "execution_count": null,
   "metadata": {},
   "outputs": [],
   "source": [
    "# Display the first few rows of the dataset\n",
    "print(\"First few rows of the dataset:\")\n",
    "movies.head()"
   ]
  },
  {
   "cell_type": "code",
   "execution_count": null,
   "metadata": {},
   "outputs": [],
   "source": [
    "# data cleaning\n",
    "\n",
    "# Step 1: Handling missing values (drop or fill with mean/median)\n",
    "print(\"\\nMissing values in the dataset:\")\n",
    "\n",
    "movies.isnull().sum()\n"
   ]
  },
  {
   "cell_type": "code",
   "execution_count": 13,
   "metadata": {},
   "outputs": [],
   "source": [
    "# Drop rows with missing values\n",
    "movies_cleaned = movies.dropna()\n",
    "\n",
    "# Alternative: Fill missing values (for numeric columns)\n",
    "# df_cleaned = movies.fillna(df.mean())"
   ]
  },
  {
   "cell_type": "code",
   "execution_count": null,
   "metadata": {},
   "outputs": [],
   "source": [
    "print(\"\\nDataset after handling missing values:\")\n",
    "movies_cleaned.head()"
   ]
  },
  {
   "cell_type": "code",
   "execution_count": null,
   "metadata": {},
   "outputs": [],
   "source": [
    "# Step 2: Removing outliers using the Z-score method\n",
    "\n",
    "# Define a function to remove outliers based on the Z-score\n",
    "def remove_outliers_zscore(data, threshold=3):\n",
    "    zscores = np.abs(stats.zscore(data.select_dtypes(include=[np.number])))\n",
    "    return data[(zscores < threshold).all(axis=1)]\n",
    "\n",
    "# Apply the function\n",
    "movies_no_outliers = remove_outliers_zscore(movies_cleaned)\n",
    "\n",
    "print(\"\\nDataset after removing outliers:\")\n",
    "print(movies_no_outliers.head())"
   ]
  },
  {
   "cell_type": "code",
   "execution_count": null,
   "metadata": {},
   "outputs": [],
   "source": [
    "# Step 3: Removing outliers using IQR method (optional alternative)\n",
    "def remove_outliers_iqr(data, factor=1.5):\n",
    "    # Select only numeric columns for IQR calculation\n",
    "    numeric_data = data.select_dtypes(include=[np.number])\n",
    "    \n",
    "    Q1 = numeric_data.quantile(0.25)\n",
    "    Q3 = numeric_data.quantile(0.75)\n",
    "    IQR = Q3 - Q1\n",
    "    \n",
    "    # Filter out rows that are outliers based on IQR\n",
    "    filtered_data = numeric_data[~((numeric_data < (Q1 - factor * IQR)) | \n",
    "                                   (numeric_data > (Q3 + factor * IQR))).any(axis=1)]\n",
    "    \n",
    "    # Return the original data but without rows identified as outliers in numeric columns\n",
    "    return data.loc[filtered_data.index]\n",
    "\n",
    "# Apply the function\n",
    "movies_no_outliers_iqr = remove_outliers_iqr(movies_cleaned)\n",
    "\n",
    "# Print the results\n",
    "print(\"\\nDataset after removing outliers using IQR:\")\n",
    "print(movies_no_outliers_iqr.head())\n"
   ]
  }
 ],
 "metadata": {
  "kernelspec": {
   "display_name": "Python 3",
   "language": "python",
   "name": "python3"
  },
  "language_info": {
   "codemirror_mode": {
    "name": "ipython",
    "version": 3
   },
   "file_extension": ".py",
   "mimetype": "text/x-python",
   "name": "python",
   "nbconvert_exporter": "python",
   "pygments_lexer": "ipython3",
   "version": "3.12.1"
  }
 },
 "nbformat": 4,
 "nbformat_minor": 2
}

{
 "cells": [
  {
   "cell_type": "code",
   "execution_count": null,
   "metadata": {
    "colab": {
     "base_uri": "https://localhost:8080/"
    },
    "executionInfo": {
     "elapsed": 455,
     "status": "ok",
     "timestamp": 1731839094396,
     "user": {
      "displayName": "CHETAN CHAUHAN",
      "userId": "06023305381592033362"
     },
     "user_tz": -330
    },
    "id": "mjr3OKLTprDN",
    "outputId": "2ee8e84b-7d05-4df1-dd56-ec4599fd4ca0"
   },
   "outputs": [],
   "source": [
    "# Creating a list\n",
    "fruits = [\"apple\", \"banana\", \"cherry\", \"date\", \"elderberry\"]\n",
    "print(\"Fruits list:\", fruits)\n",
    "\n",
    "\n",
    "# Adding elements\n",
    "fruits.append(\"fig\")  # Adds 'fig' to the end\n",
    "fruits.extend([\"grape\", \"honeydew\"])  # Adds multiple elements\n",
    "fruits.insert(2, \"blueberry\")  # Inserts 'blueberry' at index 2\n",
    "print(\"After adding elements:\", fruits)\n",
    "\n",
    "\n",
    "# Removing elements\n",
    "fruits.remove(\"blueberry\")  # Removes 'blueberry'\n",
    "removed_fruit = fruits.pop(3)  # Removes the element at index 3\n",
    "del fruits[1]  # Deletes the element at index 1\n",
    "print(\"After removing elements:\", fruits)\n",
    "print(\"Removed fruit:\", removed_fruit)\n",
    "\n",
    "# List concatenation\n",
    "vegetables = [\"carrot\", \"broccoli\", \"spinach\"]\n",
    "combined = fruits + vegetables\n",
    "print(\"Combined list:\", combined)\n",
    "# List multiplication\n",
    "repeated = fruits * 2\n",
    "print(\"Repeated list:\", repeated)\n",
    "# Check membership\n",
    "is_present = \"apple\" in fruits\n",
    "print(\"Is 'apple' in fruits?\", is_present)"
   ]
  },
  {
   "cell_type": "code",
   "execution_count": null,
   "metadata": {
    "colab": {
     "base_uri": "https://localhost:8080/"
    },
    "executionInfo": {
     "elapsed": 468,
     "status": "ok",
     "timestamp": 1731839103462,
     "user": {
      "displayName": "CHETAN CHAUHAN",
      "userId": "06023305381592033362"
     },
     "user_tz": -330
    },
    "id": "JUb2BACBpz45",
    "outputId": "f287d05f-d376-4845-f68a-f4f4be24cb11"
   },
   "outputs": [],
   "source": []
  },
  {
   "cell_type": "code",
   "execution_count": null,
   "metadata": {
    "colab": {
     "base_uri": "https://localhost:8080/"
    },
    "executionInfo": {
     "elapsed": 516,
     "status": "ok",
     "timestamp": 1731839117538,
     "user": {
      "displayName": "CHETAN CHAUHAN",
      "userId": "06023305381592033362"
     },
     "user_tz": -330
    },
    "id": "YxppwP3sp7ex",
    "outputId": "5568eb87-2da8-49b2-889f-9a6225752f6b"
   },
   "outputs": [],
   "source": []
  },
  {
   "cell_type": "code",
   "execution_count": null,
   "metadata": {
    "colab": {
     "base_uri": "https://localhost:8080/",
     "height": 211
    },
    "executionInfo": {
     "elapsed": 664,
     "status": "error",
     "timestamp": 1733840578402,
     "user": {
      "displayName": "Kuldeep Gheghate",
      "userId": "09338699178703438591"
     },
     "user_tz": -330
    },
    "id": "cHBfu6DLp_1l",
    "outputId": "11c4f07d-2a4a-4d05-fc58-18a48f2e845a"
   },
   "outputs": [],
   "source": []
  },
  {
   "cell_type": "code",
   "execution_count": null,
   "metadata": {
    "colab": {
     "base_uri": "https://localhost:8080/"
    },
    "executionInfo": {
     "elapsed": 497,
     "status": "ok",
     "timestamp": 1731839158318,
     "user": {
      "displayName": "CHETAN CHAUHAN",
      "userId": "06023305381592033362"
     },
     "user_tz": -330
    },
    "id": "KPqnwkNfqCsA",
    "outputId": "097fa151-f589-4841-8927-c1032d510294"
   },
   "outputs": [],
   "source": [
    "# Sorting the list\n",
    "fruits.sort()\n",
    "print(\"Sorted list:\", fruits)\n",
    "\n",
    "# Reversing the list\n",
    "fruits.reverse()\n",
    "print(\"Reversed list:\", fruits)"
   ]
  },
  {
   "cell_type": "code",
   "execution_count": null,
   "metadata": {
    "colab": {
     "base_uri": "https://localhost:8080/"
    },
    "executionInfo": {
     "elapsed": 564,
     "status": "ok",
     "timestamp": 1731839182809,
     "user": {
      "displayName": "CHETAN CHAUHAN",
      "userId": "06023305381592033362"
     },
     "user_tz": -330
    },
    "id": "EaHhyiEDqKb1",
    "outputId": "52e405ca-cec4-4a6c-8eaf-91ef5f2b7248"
   },
   "outputs": [],
   "source": [
    "# Creating a list\n",
    "numbers = [0, 1, 2, 3, 4, 5, 6, 7, 8, 9]\n",
    "\n",
    "# Slice from index 2 to 6 (exclusive)\n",
    "slice1 = numbers[2:6]\n",
    "print(\"Slice from index 2 to 6:\", slice1)\n",
    "\n",
    "# Slice from start to index 4\n",
    "slice2 = numbers[:5]\n",
    "print(\"Slice from start to index 4:\", slice2)\n",
    "\n",
    "# Slice from index 5 to the end\n",
    "slice3 = numbers[5:]\n",
    "print(\"Slice from index 5 to end:\", slice3)"
   ]
  },
  {
   "cell_type": "code",
   "execution_count": null,
   "metadata": {
    "colab": {
     "base_uri": "https://localhost:8080/"
    },
    "executionInfo": {
     "elapsed": 713,
     "status": "ok",
     "timestamp": 1731839216029,
     "user": {
      "displayName": "CHETAN CHAUHAN",
      "userId": "06023305381592033362"
     },
     "user_tz": -330
    },
    "id": "zmDlQ012qRCk",
    "outputId": "33ae269b-bc9c-4599-a525-5e39ef361136"
   },
   "outputs": [],
   "source": [
    "# Negative indexing\n",
    "slice4 = numbers[-4:]  # Last 4 elements\n",
    "slice5 = numbers[:-3]  # All except last 3\n",
    "print(\"Last 4 elements:\", slice4)\n",
    "print(\"All except last 3:\", slice5)"
   ]
  },
  {
   "cell_type": "code",
   "execution_count": null,
   "metadata": {
    "colab": {
     "base_uri": "https://localhost:8080/"
    },
    "executionInfo": {
     "elapsed": 1492,
     "status": "ok",
     "timestamp": 1731839231659,
     "user": {
      "displayName": "CHETAN CHAUHAN",
      "userId": "06023305381592033362"
     },
     "user_tz": -330
    },
    "id": "-y1kzNQ1qXIV",
    "outputId": "136fbce1-a42b-4190-b71e-cf1144176fa9"
   },
   "outputs": [],
   "source": [
    "# Slicing with steps\n",
    "slice6 = numbers[::2]  # Every 2nd element\n",
    "slice7 = numbers[1::3]  # Every 3rd element starting from index 1\n",
    "slice8 = numbers[::-1]  # Reverse the list\n",
    "print(\"Every 2nd element:\", slice6)\n",
    "print(\"Every 3rd element starting from index 1:\", slice7)\n",
    "print(\"Reversed list using slicing:\", slice8)"
   ]
  }
 ],
 "metadata": {
  "colab": {
   "provenance": []
  },
  "kernelspec": {
   "display_name": "Python 3 (ipykernel)",
   "language": "python",
   "name": "python3"
  },
  "language_info": {
   "codemirror_mode": {
    "name": "ipython",
    "version": 3
   },
   "file_extension": ".py",
   "mimetype": "text/x-python",
   "name": "python",
   "nbconvert_exporter": "python",
   "pygments_lexer": "ipython3",
   "version": "3.12.5"
  }
 },
 "nbformat": 4,
 "nbformat_minor": 4
}

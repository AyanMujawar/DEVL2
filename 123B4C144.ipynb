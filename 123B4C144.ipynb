{
 "cells": [
  {
   "cell_type": "code",
   "execution_count": 1,
   "id": "1d42d113-07a1-4b51-8d8c-72968a5185f9",
   "metadata": {},
   "outputs": [
    {
     "name": "stdout",
     "output_type": "stream",
     "text": [
      "49.75\n",
      "34.0\n",
      "Mean diameter of pizzas from Unit A: 49.75 inches\n",
      "Mean diameter of pizzas from Unit B: 34.00 inches\n",
      "Mean Diameter Unit 1: 49.75 cm\n",
      "Mean Diameter Unit 2: 34.00 cm\n",
      "T-statistic: 0.9431\n",
      "P-value: 0.3820\n",
      "Fail to reject the null hypothesis: No significant difference in average diameters.\n"
     ]
    }
   ],
   "source": [
    "import numpy as np\n",
    "from scipy import stats\n",
    "#two types of hypothesis - null and alternative \n",
    "#null - different diameter values\n",
    "#alternative - same diameter values\n",
    "\n",
    "unit1_diameter = np.array([56,78,43,22]) # Unit A Pizza diameters (in cm)\n",
    "unit2_diameter = np.array([12,67,34,23]) # Unit B Pizza diameters (in cm)\n",
    "\n",
    "#calculating mean \n",
    "mean_unit1 = np.mean(unit1_diameter)\n",
    "mean_unit2 = np.mean(unit2_diameter)\n",
    "\n",
    "print(mean_unit1)\n",
    "print(mean_unit2)\n",
    "    \n",
    "t_statistic, p_value = stats.ttest_ind(unit1_diameter, unit2_diameter) #t statistics means comparison of difference between unit1 and unit2 diameter relative to the variation in your sample data.\n",
    "# p value means probability value\n",
    "\n",
    "sample = 0.05 # less than 0.05 suggests that we can reject the null hypothesis\n",
    "\n",
    "print(f\"Mean Diameter Unit 1: {mean_unit1:.2f} cm\")\n",
    "print(f\"Mean Diameter Unit 2: {mean_unit2:.2f} cm\")\n",
    "print(f\"T-statistic: {t_statistic:.4f}\")\n",
    "print(f\"P-value: {p_value:.4f}\")\n",
    "\n",
    "# Step 5: Make a decision based on p-value\n",
    "if p_value < sample:\n",
    "    print(\"Reject the null hypothesis: There is a significant difference in average diameters.\")\n",
    "else:\n",
    "    print(\"Fail to reject the null hypothesis: No significant difference in average diameters.\")"
   ]
  },
  {
   "cell_type": "code",
   "execution_count": null,
   "id": "23079ca7-8027-452b-841f-dcbf7f068e1a",
   "metadata": {},
   "outputs": [],
   "source": []
  }
 ],
 "metadata": {
  "kernelspec": {
   "display_name": "Python 3 (ipykernel)",
   "language": "python",
   "name": "python3"
  },
  "language_info": {
   "codemirror_mode": {
    "name": "ipython",
    "version": 3
   },
   "file_extension": ".py",
   "mimetype": "text/x-python",
   "name": "python",
   "nbconvert_exporter": "python",
   "pygments_lexer": "ipython3",
   "version": "3.12.5"
  }
 },
 "nbformat": 4,
 "nbformat_minor": 5
}

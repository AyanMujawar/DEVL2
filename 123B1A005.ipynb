{
 "cells": [
  {
   "cell_type": "code",
   "execution_count": null,
   "id": "e7898ce1-dcfb-4ff0-bd60-42ce79f0e185",
   "metadata": {},
   "outputs": [
    {
     "name": "stdout",
     "output_type": "stream",
     "text": [
      "\n",
      "Menu:\n",
      "1. Add Student\n",
      "2. Update Score\n",
      "3. Delete Student\n",
      "4. Find Highest Scorer\n",
      "5. Exit\n"
     ]
    },
    {
     "name": "stdout",
     "output_type": "stream",
     "text": [
      "Enter your choice:  1\n",
      "Enter the student's name:  swayam\n",
      "Enter the student's score:  98\n"
     ]
    },
    {
     "name": "stdout",
     "output_type": "stream",
     "text": [
      "Added student swayam with score 98.\n",
      "\n",
      "Menu:\n",
      "1. Add Student\n",
      "2. Update Score\n",
      "3. Delete Student\n",
      "4. Find Highest Scorer\n",
      "5. Exit\n"
     ]
    },
    {
     "name": "stdout",
     "output_type": "stream",
     "text": [
      "Enter your choice:  4\n"
     ]
    },
    {
     "name": "stdout",
     "output_type": "stream",
     "text": [
      "Highest scorer is swayam with a score of 98.\n",
      "\n",
      "Menu:\n",
      "1. Add Student\n",
      "2. Update Score\n",
      "3. Delete Student\n",
      "4. Find Highest Scorer\n",
      "5. Exit\n"
     ]
    },
    {
     "name": "stdout",
     "output_type": "stream",
     "text": [
      "Enter your choice:  3\n",
      "Enter the student's name to delete:  khush\n"
     ]
    },
    {
     "name": "stdout",
     "output_type": "stream",
     "text": [
      "Student khush not found.\n",
      "\n",
      "Menu:\n",
      "1. Add Student\n",
      "2. Update Score\n",
      "3. Delete Student\n",
      "4. Find Highest Scorer\n",
      "5. Exit\n"
     ]
    }
   ],
   "source": [
    "# Initialize the dictionary\n",
    "students_scores = {}\n",
    "\n",
    "# Define functions for each operation\n",
    "def add_student():\n",
    "    name = input(\"Enter the student's name: \")\n",
    "    score = int(input(\"Enter the student's score: \"))\n",
    "    if name in students_scores:\n",
    "        print(f\"Student {name} already exists.\")\n",
    "    else:\n",
    "        students_scores[name] = score\n",
    "        print(f\"Added student {name} with score {score}.\")\n",
    "\n",
    "def update_score():\n",
    "    name = input(\"Enter the student's name: \")\n",
    "    if name in students_scores:\n",
    "        score = int(input(f\"Enter the new score for {name}: \"))\n",
    "        students_scores[name] = score\n",
    "        print(f\"Updated score for {name} to {score}.\")\n",
    "    else:\n",
    "        print(f\"Student {name} not found.\")\n",
    "\n",
    "def delete_student():\n",
    "    name = input(\"Enter the student's name to delete: \")\n",
    "    if name in students_scores:\n",
    "        del students_scores[name]\n",
    "        print(f\"Deleted student {name}.\")\n",
    "    else:\n",
    "        print(f\"Student {name} not found.\")\n",
    "\n",
    "def find_highest_score():\n",
    "    max_score = max(students_scores.values())\n",
    "    for name, score in students_scores.items():\n",
    "        if score == max_score:\n",
    "            print(f\"The highest score is held by {name}\")      \n",
    "\n",
    "# Main menu\n",
    "def menu():\n",
    "    while True:\n",
    "        print(\"\\nMenu:\")\n",
    "        print(\"1. Add Student\")\n",
    "        print(\"2. Update Score\")\n",
    "        print(\"3. Delete Student\")\n",
    "        print(\"4. Find Highest Scorer\")\n",
    "        print(\"5. Exit\")\n",
    "        \n",
    "        choice = input(\"Enter your choice: \")\n",
    "        \n",
    "        if choice == \"1\":\n",
    "            add_student()\n",
    "        elif choice == \"2\":\n",
    "            update_score()\n",
    "        elif choice == \"3\":\n",
    "            delete_student()\n",
    "        elif choice == \"4\":\n",
    "            find_highest_score()\n",
    "        elif choice == \"5\":\n",
    "            print(\"Exiting the program. Goodbye!\")\n",
    "            break\n",
    "        else:\n",
    "            print(\"Invalid choice. Please try again.\")\n",
    "\n",
    "# Run the menu\n",
    "menu()\n"
   ]
  },
  {
   "cell_type": "code",
   "execution_count": null,
   "id": "23d72ef2-fe49-44ab-bace-75f97cb2ec2e",
   "metadata": {},
   "outputs": [],
   "source": []
  }
 ],
 "metadata": {
  "kernelspec": {
   "display_name": "Python 3 (ipykernel)",
   "language": "python",
   "name": "python3"
  },
  "language_info": {
   "codemirror_mode": {
    "name": "ipython",
    "version": 3
   },
   "file_extension": ".py",
   "mimetype": "text/x-python",
   "name": "python",
   "nbconvert_exporter": "python",
   "pygments_lexer": "ipython3",
   "version": "3.12.5"
  }
 },
 "nbformat": 4,
 "nbformat_minor": 5
}

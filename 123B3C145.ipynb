{
 "cells": [
  {
   "cell_type": "code",
   "execution_count": null,
   "id": "ef0c7561-6946-4885-934f-e7f3d7f2f250",
   "metadata": {},
   "outputs": [],
   "source": [
    "\n",
    "import pandas as pd\n",
    "\n",
    "titanic = pd.read_csv(r'D:\\Datasets\\Titanic (1).csv')  \n",
    "\n",
    "# first few rows of the dataset to get an overview\n",
    "print(\"First few rows of the dataset:\")\n",
    "display(titanic.head())\n",
    "\n",
    "# summary statistics of the dataset\n",
    "print(\"\\nSummary Statistics:\")\n",
    "display(titanic.describe())\n",
    "\n",
    "# Data types and missing values check\n",
    "print(\"\\nData Types and Missing Values:\")\n",
    "display(titanic.info())\n",
    "\n",
    "# Ignore warnings\n",
    "import warnings\n",
    "warnings.simplefilter(action = \"ignore\", category = FutureWarning)"
   ]
  },
  {
   "cell_type": "code",
   "execution_count": null,
   "id": "6d0511e3-ffba-4442-a564-11b7f985a004",
   "metadata": {},
   "outputs": [],
   "source": [
    "print(titanic.columns)"
   ]
  },
  {
   "cell_type": "code",
   "execution_count": null,
   "id": "2348d9b2-9be4-4a58-a679-80c5a9e1bcb2",
   "metadata": {},
   "outputs": [],
   "source": [
    "import matplotlib.pyplot as plt\n",
    "\n",
    "#  histograms for all numeric columns to visualize the distribution\n",
    "print(\"\\nPlotting Histograms for Data Distribution:\")\n",
    "titanic.hist(figsize=(10, 6), bins=20, edgecolor='black')\n",
    "plt.suptitle(\"Data Distribution of Numeric Features\")\n",
    "plt.show()\n",
    "\n",
    "# Boxplots for numeric features to detect any outliers\n",
    "print(\"\\nPlotting Boxplots for Data Distribution:\")\n",
    "import seaborn as sns\n",
    "plt.figure(figsize=(10, 6))\n",
    "sns.boxplot(data=titanic.select_dtypes(include='number'), palette='muted')\n",
    "plt.title(\"Boxplots of Numeric Features\")\n",
    "plt.show()\n"
   ]
  },
  {
   "cell_type": "code",
   "execution_count": null,
   "id": "e4819140-be65-4dce-ae59-6fb055c8a405",
   "metadata": {},
   "outputs": [],
   "source": [
    "# Pairplot to visualize relationships between numeric features\n",
    "print(\"\\nPlotting Pairplot (Bivariate Analysis):\")\n",
    "sns.pairplot(titanic, hue='survived', palette='husl')\n",
    "plt.suptitle(\"Pairplot of Features\", y=1.02)\n",
    "plt.show()\n",
    "\n",
    "# Violin plot to visualize the distribution of Age by Survived (target variable)\n",
    "print(\"\\nPlotting Violin Plot (Age vs Survived):\")\n",
    "plt.figure(figsize=(8, 6))\n",
    "sns.violinplot(x='survived', y='age', data=titanic, palette='muted')\n",
    "plt.title(\"Distribution of Age by Survival\")\n",
    "plt.show()\n"
   ]
  },
  {
   "cell_type": "code",
   "execution_count": null,
   "id": "eb82d8a0-fad0-4f05-9874-67f73525fe0f",
   "metadata": {},
   "outputs": [],
   "source": [
    "corr_matrix = titanic.select_dtypes(include='number').corr()\n",
    "\n",
    "# correlation matrix\n",
    "print(\"\\nCorrelation Matrix:\")\n",
    "display(corr_matrix)\n",
    "\n",
    "# correlation heatmap\n",
    "print(\"\\nPlotting Heatmap of Correlations:\")\n",
    "plt.figure(figsize=(8, 6))\n",
    "sns.heatmap(corr_matrix, annot=True, cmap='coolwarm', linewidths=0.5)\n",
    "plt.title(\"Heatmap of Feature Correlations\")\n",
    "plt.show()\n"
   ]
  },
  {
   "cell_type": "markdown",
   "id": "7ded4026-df36-42ef-a627-39892a910c97",
   "metadata": {},
   "source": [
    "Observations from Correlation Analysis:\n",
    "1. The highest correlation is between 'SibSp' and 'Parch', which are both family-related features.\n",
    "2. 'Age' has a moderate negative correlation with 'Fare'.\n",
    "3. 'Survived' is weakly correlated with 'Age', 'Fare', and 'Pclass', indicating these features have some influence on survival."
   ]
  }
 ],
 "metadata": {
  "kernelspec": {
   "display_name": "Python 3 (ipykernel)",
   "language": "python",
   "name": "python3"
  },
  "language_info": {
   "codemirror_mode": {
    "name": "ipython",
    "version": 3
   },
   "file_extension": ".py",
   "mimetype": "text/x-python",
   "name": "python",
   "nbconvert_exporter": "python",
   "pygments_lexer": "ipython3",
   "version": "3.12.5"
  }
 },
 "nbformat": 4,
 "nbformat_minor": 5
}
